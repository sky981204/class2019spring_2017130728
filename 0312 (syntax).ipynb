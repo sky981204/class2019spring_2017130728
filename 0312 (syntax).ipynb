{
 "cells": [
  {
   "cell_type": "code",
   "execution_count": 2,
   "metadata": {},
   "outputs": [
    {
     "name": "stdout",
     "output_type": "stream",
     "text": [
      "1\n",
      "2\n",
      "3\n",
      "4\n"
     ]
    }
   ],
   "source": [
    "a = [1, 2, 3, 4]\n",
    "for i in a:\n",
    "    print(i)"
   ]
  },
  {
   "cell_type": "markdown",
   "metadata": {},
   "source": [
    "a에 있는 것들을 하나하나 돌리는데 i로 돌리겠다.\n",
    "제일 오른쪽에 : (콜론)을 반드시 써주어야 한다.\n",
    "파이썬에서는 end를 쓰지 않는 대신에 tab으로 들여쓰기를 해주어야 한다. 들여쓰기를 한 곳까지가 for루트의 영역"
   ]
  },
  {
   "cell_type": "code",
   "execution_count": 4,
   "metadata": {},
   "outputs": [
    {
     "data": {
      "text/plain": [
       "4"
      ]
     },
     "execution_count": 4,
     "metadata": {},
     "output_type": "execute_result"
    }
   ],
   "source": [
    "len(a)"
   ]
  },
  {
   "cell_type": "markdown",
   "metadata": {},
   "source": [
    "len 이라는 것은 리스트의 개수, 즉 len(a) = 4"
   ]
  },
  {
   "cell_type": "code",
   "execution_count": 7,
   "metadata": {},
   "outputs": [
    {
     "name": "stdout",
     "output_type": "stream",
     "text": [
      "0\n",
      "1\n",
      "2\n",
      "3\n"
     ]
    }
   ],
   "source": [
    "a = [1, 2, 3, 4]\n",
    "for i in range(4):\n",
    "    print(i)"
   ]
  },
  {
   "cell_type": "markdown",
   "metadata": {},
   "source": [
    "range를 쓰면 index를 받아옴. \n",
    "range 4 라고 했을 때 i에 0,1,2,3이 들어왔다.\n",
    "a[0]은 a의 첫번째 숫자이니 1, a[1]은 2, a[2] = 3, a[3] = 4"
   ]
  },
  {
   "cell_type": "code",
   "execution_count": 8,
   "metadata": {},
   "outputs": [
    {
     "name": "stdout",
     "output_type": "stream",
     "text": [
      "1\n",
      "2\n",
      "3\n",
      "4\n"
     ]
    }
   ],
   "source": [
    "a = [1, 2, 3, 4]\n",
    "for i in range(4):\n",
    "    print(a[i])"
   ]
  },
  {
   "cell_type": "markdown",
   "metadata": {},
   "source": [
    "즉 a[i]를 하면 다시 a의 숫자가 나온다."
   ]
  },
  {
   "cell_type": "code",
   "execution_count": 11,
   "metadata": {},
   "outputs": [
    {
     "name": "stdout",
     "output_type": "stream",
     "text": [
      "red : 20.0%\n",
      "green : 30.0%\n",
      "blue : 10.0%\n",
      "purple : 40.0%\n"
     ]
    }
   ],
   "source": [
    "a = [\"red\",\"green\", \"blue\", \"purple\" ]\n",
    "b = [0.2, 0.3, 0.1, 0.4]\n",
    "for i, a in enumerate(a):\n",
    "    print(\"{} : {}%\" .format(a, b[i]*100))"
   ]
  },
  {
   "cell_type": "markdown",
   "metadata": {},
   "source": [
    "* enumerate라는(a) 함수를 쓰면 i에다가는 0,1,2,3을 주고 for루프는 총 4번 돌아간다(a가 네개이기 때문)\n",
    "* i는 원래 없었는데 enumerate를 통해서 0이 만들어진다.\n",
    "* i에 0 a에 red가 들어간다.\n",
    "* b[0]번째는 0.2이기 때문에 20이 들어감\n",
    "* 따라서 red와 20이 나옴."
   ]
  },
  {
   "cell_type": "code",
   "execution_count": 13,
   "metadata": {},
   "outputs": [
    {
     "name": "stdout",
     "output_type": "stream",
     "text": [
      "red : 20.0%\n",
      "green : 30.0%\n",
      "blue : 10.0%\n",
      "purple : 40.0%\n"
     ]
    }
   ],
   "source": [
    "a = [\"red\",\"green\", \"blue\", \"purple\" ]\n",
    "b = [0.2, 0.3, 0.1, 0.4]\n",
    "for a_, b_ in zip(a, b):\n",
    "    print(\"{} : {}%\" .format(a_, b_*100))"
   ]
  },
  {
   "cell_type": "markdown",
   "metadata": {},
   "source": [
    "zip할 때 a는 list, for에 a_는 한 번 루프 돌 때 하나. 따라서 같은 이름일 수는 없다. \n",
    "1: red와 0.2 가 루프 안으로 들어간다."
   ]
  },
  {
   "cell_type": "code",
   "execution_count": 14,
   "metadata": {},
   "outputs": [
    {
     "name": "stdout",
     "output_type": "stream",
     "text": [
      "0\n"
     ]
    }
   ],
   "source": [
    "a = 0\n",
    "if a == 0:\n",
    "    print(a)\n",
    "else:\n",
    "    print(a+1)"
   ]
  },
  {
   "cell_type": "markdown",
   "metadata": {},
   "source": [
    "* a가 0이면 0을 print하고 0이 아니면 a+1을 프린트하라.\n",
    "* = 한 번 쓰는 것은 변수 assignment. equal을 말할 때는 =를 두 번 쓴다. \n",
    "else에도 :를 찍어야한다."
   ]
  },
  {
   "cell_type": "code",
   "execution_count": 17,
   "metadata": {},
   "outputs": [
    {
     "name": "stdout",
     "output_type": "stream",
     "text": [
      "3\n",
      "4\n",
      "6\n",
      "8\n"
     ]
    }
   ],
   "source": [
    "for i in range(1, 3):\n",
    "    for j in range(3, 5):\n",
    "        print(i*j)"
   ]
  },
  {
   "cell_type": "markdown",
   "metadata": {},
   "source": [
    "range는 for루트의 in 다음에 쓸 수 있는데 range(1, 3)이라고 하면 1부터 2까지이다."
   ]
  },
  {
   "cell_type": "code",
   "execution_count": 20,
   "metadata": {},
   "outputs": [
    {
     "name": "stdout",
     "output_type": "stream",
     "text": [
      "4\n",
      "8\n"
     ]
    }
   ],
   "source": [
    "for i in range (1,3):\n",
    "    for j in range (3, 5):\n",
    "        if j >=4:\n",
    "            print(i*j)"
   ]
  },
  {
   "cell_type": "markdown",
   "metadata": {},
   "source": [
    "j가 4보다 같거나 커야 하기 때문에 4만 들어간다.\n",
    "i에는 1,2 / j에는 4"
   ]
  },
  {
   "cell_type": "code",
   "execution_count": null,
   "metadata": {},
   "outputs": [],
   "source": [
    "a = [1, 2, 3, 4]\n",
    "b= [i for i in a if i >= 2]\n",
    "b"
   ]
  },
  {
   "cell_type": "markdown",
   "metadata": {},
   "source": [
    "* 4번이 루프로 돌면서 i는 1,2,3,4\n",
    "* if i >= 2 이기 때문에 2,3,4\n"
   ]
  },
  {
   "cell_type": "code",
   "execution_count": 21,
   "metadata": {},
   "outputs": [
    {
     "data": {
      "text/plain": [
       "['green', 'blue', 'green']"
      ]
     },
     "execution_count": 21,
     "metadata": {},
     "output_type": "execute_result"
    }
   ],
   "source": [
    "a = ['red', 'green', 'blue', 'green']\n",
    "b= [i for i in a if len(i) >= 4]\n",
    "b"
   ]
  }
 ],
 "metadata": {
  "kernelspec": {
   "display_name": "Python 3",
   "language": "python",
   "name": "python3"
  },
  "language_info": {
   "codemirror_mode": {
    "name": "ipython",
    "version": 3
   },
   "file_extension": ".py",
   "mimetype": "text/x-python",
   "name": "python",
   "nbconvert_exporter": "python",
   "pygments_lexer": "ipython3",
   "version": "3.6.5"
  }
 },
 "nbformat": 4,
 "nbformat_minor": 2
}
