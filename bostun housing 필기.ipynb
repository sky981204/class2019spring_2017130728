{
 "cells": [
  {
   "cell_type": "markdown",
   "metadata": {},
   "source": [
    "# bostun housing (1~4번)\n",
    "* 연속된 y의 값을 0과 1로 끊어주는 과정 (디지털)\n",
    "* y= ax+b의 경우, y는 카테고리하지 않다 - 이를 classification 할 필요가 있다.\n",
    "\n"
   ]
  },
  {
   "cell_type": "code",
   "execution_count": null,
   "metadata": {},
   "outputs": [],
   "source": [
    "# description\n",
    "# https://www.kaggle.com/c/boston-housing\n",
    "\n",
    "# TensorFlow and tf.keras\n",
    "import tensorflow\n",
    "from tensorflow.keras.models import Sequential\n",
    "from tensorflow.keras.layers import Dense, Activation\n",
    "\n",
    "# Helper libraries\n",
    "import numpy as np\n",
    "import matplotlib.pyplot as plt"
   ]
  },
  {
   "cell_type": "markdown",
   "metadata": {},
   "source": [
    "* 100 * 100 픽셀로 이루어진 그림이 있다. 이 때 총 숫자의 개수는\n",
    "* 흑백일 경우 - 검/흰은 0과 1로 표현 가능하므로 1만개\n",
    "* 컬러일 경우 - RGB 3층이므로 3을 곱해준다. 따라서 3만개 (같은 색 명암만 있어도 흑백과 같이 취급한다)"
   ]
  },
  {
   "cell_type": "markdown",
   "metadata": {},
   "source": [
    "* 이러한 것이 100개 연속된 레이블은 어떻게 저장하나?\n",
    "* 0~99 또는 1~100 중에 선택해서 저장"
   ]
  },
  {
   "cell_type": "markdown",
   "metadata": {},
   "source": [
    "## hiden layer\n",
    "\n",
    "더 정교한 모델을 위해서 hidden layer을 추가할 수 있다. hidden layer에 몇개의 node를 넣을 지는 필요에 따라 다르다.\n",
    "\n",
    "\n",
    "* 성능에 영향을 미치는 것\n",
    "* 1) hidden layer의 수\n",
    "* 2) hidden layer의 node의 수\n",
    "* 3) epoch의 수\n",
    "* 4) activation - nonlinearity 부과\n",
    "* ( sigmoid:모든 수를 0하고 1사이로 ,tanh: -1부터 1사이로, relu: 음수는 0으로, 양수는 그대로, softmax: 총합이 1이 되도록)\n",
    "\n",
    "\n",
    "\n"
   ]
  },
  {
   "cell_type": "code",
   "execution_count": null,
   "metadata": {},
   "outputs": [],
   "source": [
    "(x_train, y_train), (x_test, y_test) = tensorflow.keras.datasets.boston_housing.load_data(path='boston_housing.npz')"
   ]
  },
  {
   "cell_type": "markdown",
   "metadata": {},
   "source": [
    "* x는 왼쪽에(영향 미치는 요소 13개)\n",
    "* y는 오른쪽에(보스턴 하우스 price값)\n",
    "* variable 네개 받아 온 것"
   ]
  },
  {
   "cell_type": "code",
   "execution_count": null,
   "metadata": {},
   "outputs": [],
   "source": [
    "model = Sequential()\n",
    "model.add(Dense(10, input_shape=[13], activation='relu'))\n",
    "model.add(Dense(1))\n",
    "model.compile(optimizer='rmsprop', loss='mse')\n",
    "model.summary()"
   ]
  },
  {
   "cell_type": "markdown",
   "metadata": {},
   "source": [
    "* 둘째 줄을 보면 입력이 동그라미 13개, 출력이 1개라는 것을 알 수 있다.\n",
    "* 토탈이 14인 이유 - 훈련해야 하는 것이 y=ax와 y=ax+b 두 개로 y절편인 b가 있기 때문에 실질적으로는 14개인 것."
   ]
  },
  {
   "cell_type": "code",
   "execution_count": null,
   "metadata": {},
   "outputs": [],
   "source": [
    "model = Sequential()\n",
    "model.add(Dense(10, input_shape=[13], activation = 'relu'))\n",
    "model.add(Dense(1))\n",
    "model.compile(optimizer='rmsprop', loss='mse')\n",
    "model.summary()"
   ]
  },
  {
   "cell_type": "code",
   "execution_count": null,
   "metadata": {},
   "outputs": [],
   "source": [
    "_________________________________________________________________\n",
    "Layer (type)                 Output Shape              Param #   \n",
    "=================================================================\n",
    "dense_3 (Dense)              (None, 10)                140       \n",
    "_________________________________________________________________\n",
    "dense_4 (Dense)              (None, 1)                 11        \n",
    "=================================================================\n",
    "Total params: 151\n",
    "Trainable params: 151\n",
    "Non-trainable params: 0\n",
    "_________________________________________________________________"
   ]
  },
  {
   "cell_type": "markdown",
   "metadata": {},
   "source": [
    "* model summary 에서 param #의 의미: 화살표의 개수\n",
    "* 1번째 줄 140= (13+1) (hidden이 10이라서 10을 곱한 것)\n",
    "* 2번째 줄 parameter 수 = 11 (중간 히든 래이어에서 10+ b값(=1) 하나 더해준 값 * 1개 마지막 노드) -> 11=(10+1)\n",
    "* 결과값이 none인 이유는 구분되는 것이 아니라 숫자이기 때문이다."
   ]
  },
  {
   "cell_type": "code",
   "execution_count": 3,
   "metadata": {},
   "outputs": [],
   "source": [
    "# INPUT::\n",
    "# 1. crim: per capita crime rate by town.\n",
    "# 2. zn: proportion of residential land zoned for lots over 25,000 sq.ft.\n",
    "# 3. indus: proportion of non-retail business acres per town.\n",
    "# 4. chas: Charles River dummy variable (= 1 if tract bounds river; 0 otherwise).\n",
    "# 5. nox: nitrogen oxides concentration (parts per 10 million).\n",
    "# 6. rm: average number of rooms per dwelling.\n",
    "# 7. age: proportion of owner-occupied units built prior to 1940.\n",
    "# 8. dis: weighted mean of distances to five Boston employment centres.\n",
    "# 9. rad: index of accessibility to radial highways.\n",
    "# 10. tax: full-value property-tax rate per $10,000.\n",
    "# 11. ptratio: pupil-teacher ratio by town.\n",
    "# 12. black: 1000(Bk - 0.63)^2 where Bk is the proportion of blacks by town.\n",
    "# 13. lstat: lower status of the population (percent).\n",
    "\n",
    "# TARGET::\n",
    "# medv: median value of owner-occupied homes in $1000s."
   ]
  },
  {
   "cell_type": "markdown",
   "metadata": {},
   "source": [
    "엑셀 파일로 만들면 총 14개의 칼럼이 나온다.  (x 13개, y 1개)"
   ]
  },
  {
   "cell_type": "markdown",
   "metadata": {},
   "source": [
    "* 1 epochs는 whole data를 1번씩 사용하는 것이다. 즉 1000 epochs는 모든 데이터를 1000번씩 사용하는 것.\n",
    "* sigmoid - 모든 값을 0과 1 사이로 넣는 것\n",
    "* tanh - -1~1\n",
    "* relu - 음수를 0으로 바꾸는 것"
   ]
  },
  {
   "cell_type": "markdown",
   "metadata": {},
   "source": [
    "# None = batch_size?"
   ]
  },
  {
   "cell_type": "code",
   "execution_count": null,
   "metadata": {},
   "outputs": [],
   "source": [
    "print(model.input_shape)\n",
    "print(model.output_shape)"
   ]
  },
  {
   "cell_type": "markdown",
   "metadata": {},
   "source": [
    "* (None, 13)\n",
    "* (None, 1)"
   ]
  },
  {
   "cell_type": "markdown",
   "metadata": {},
   "source": [
    "입력은 13차원, 출력은 1차원이다. 즉, 13개가 들어가서 1개가 돌아온다.\n",
    "\n",
    "\n",
    "1이 아닌 none이라고 적은 이유는? \n",
    "* y절편이 없다고 가정하면 1 13 13 10 10 1이기 때문에 결국 1이 나온다.\n",
    "* 케이스를 한 번에 넣어주는 것이다. 하나의 샘플이 아닌 여러 개의 샘플을 집어 넣으려고 하는 것.\n"
   ]
  },
  {
   "cell_type": "code",
   "execution_count": null,
   "metadata": {},
   "outputs": [],
   "source": [
    "model.fit(x_train, y_train, epochs=1000)"
   ]
  },
  {
   "cell_type": "markdown",
   "metadata": {},
   "source": [
    "* fit은 실제 데이터 가지고 weight matrix를 구하는 함수\n",
    "* 404개의 데이터를 천번 돌리는 것, x_train.shape이 (404,13)으로 뜨기 때문에 404개이다. \n",
    "* 디폴트는 32"
   ]
  }
 ],
 "metadata": {
  "kernelspec": {
   "display_name": "Python 3",
   "language": "python",
   "name": "python3"
  },
  "language_info": {
   "codemirror_mode": {
    "name": "ipython",
    "version": 3
   },
   "file_extension": ".py",
   "mimetype": "text/x-python",
   "name": "python",
   "nbconvert_exporter": "python",
   "pygments_lexer": "ipython3",
   "version": "3.6.5"
  }
 },
 "nbformat": 4,
 "nbformat_minor": 2
}
